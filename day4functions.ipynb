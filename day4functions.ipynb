{
 "cells": [
  {
   "cell_type": "code",
   "execution_count": 1,
   "id": "79887661-b419-483b-a25e-36d7fdd990a9",
   "metadata": {},
   "outputs": [
    {
     "name": "stdin",
     "output_type": "stream",
     "text": [
      "Please enter an integer:  5\n"
     ]
    },
    {
     "name": "stdout",
     "output_type": "stream",
     "text": [
      "More\n"
     ]
    }
   ],
   "source": [
    "x = int(input(\"Please enter an integer: \"))\n",
    "if x < 0:\n",
    "    x = 0\n",
    "    print('Negative changed to zero')\n",
    "elif x == 0:\n",
    "    print('Zero')\n",
    "elif x == 1:\n",
    "    print('Single')\n",
    "else:\n",
    "    print('More')"
   ]
  },
  {
   "cell_type": "code",
   "execution_count": 4,
   "id": "ac5c2214-824f-4228-a696-4a1380c3bed5",
   "metadata": {},
   "outputs": [
    {
     "name": "stdout",
     "output_type": "stream",
     "text": [
      "cat 3\n",
      "window 3\n",
      "defenestrate 3\n"
     ]
    }
   ],
   "source": [
    "w=['cat','window','defenestrate']\n",
    "for wo in w:\n",
    "    print(wo, len(w))"
   ]
  },
  {
   "cell_type": "code",
   "execution_count": 6,
   "id": "1f3a42f0-0035-4a06-aebe-d017e292bb06",
   "metadata": {},
   "outputs": [
    {
     "name": "stdout",
     "output_type": "stream",
     "text": [
      "{'Hans': 'active'}\n",
      "{'Hans': 'active', 'Dom': 'active'}\n"
     ]
    }
   ],
   "source": [
    "users={'Hans':'active', 'Electro':'inactive', 'Dom':'active'}\n",
    "for user, status in users.copy().items():\n",
    "    if status=='inactive':\n",
    "        del users[user]\n",
    "\n",
    "active_users={}\n",
    "for user, status in users.items():\n",
    "    if status=='active':\n",
    "        active_users[user]=status\n",
    "        print (active_users)"
   ]
  },
  {
   "cell_type": "code",
   "execution_count": 7,
   "id": "c4dffebd-9e86-4e1e-b8ec-0152ea35be91",
   "metadata": {},
   "outputs": [
    {
     "name": "stdout",
     "output_type": "stream",
     "text": [
      "0\n",
      "1\n",
      "2\n",
      "3\n",
      "4\n"
     ]
    }
   ],
   "source": [
    "for i in range(5):\n",
    "    print (i)"
   ]
  },
  {
   "cell_type": "code",
   "execution_count": 8,
   "id": "b4d4bf80-da30-4608-ae0f-9f8b3770d7b1",
   "metadata": {},
   "outputs": [
    {
     "data": {
      "text/plain": [
       "[5, 6, 7, 8, 9]"
      ]
     },
     "execution_count": 8,
     "metadata": {},
     "output_type": "execute_result"
    }
   ],
   "source": [
    "list(range(5,10))"
   ]
  },
  {
   "cell_type": "code",
   "execution_count": 9,
   "id": "c7b8adc0-98f0-4988-b52b-cb7beb5933c6",
   "metadata": {},
   "outputs": [
    {
     "name": "stdout",
     "output_type": "stream",
     "text": [
      "0 Mary\n",
      "1 had\n",
      "2 a\n",
      "3 little\n",
      "4 lamb\n"
     ]
    }
   ],
   "source": [
    "a=['Mary','had','a','little','lamb']\n",
    "for i in range(len(a)):\n",
    "    print(i, a[i])"
   ]
  },
  {
   "cell_type": "code",
   "execution_count": 10,
   "id": "dd637613-525d-457f-be28-986cdf86ecbe",
   "metadata": {},
   "outputs": [
    {
     "data": {
      "text/plain": [
       "6"
      ]
     },
     "execution_count": 10,
     "metadata": {},
     "output_type": "execute_result"
    }
   ],
   "source": [
    "sum(range(4))"
   ]
  },
  {
   "cell_type": "code",
   "execution_count": 11,
   "id": "aa487f7b-dbb8-4bf7-b113-3c369027eb48",
   "metadata": {},
   "outputs": [
    {
     "name": "stdout",
     "output_type": "stream",
     "text": [
      "4 equals 2*2\n",
      "6 equals 2*3\n",
      "8 equals 2*4\n",
      "9 equals 3*3\n"
     ]
    }
   ],
   "source": [
    "for n in range(2,10):\n",
    "    for x in range(2,n):\n",
    "        if n % x==0:\n",
    "            print(f\"{n} equals {x}*{n//x}\")\n",
    "            break"
   ]
  },
  {
   "cell_type": "code",
   "execution_count": 12,
   "id": "fb958c05-4057-45ab-a1b4-b722a993cc71",
   "metadata": {},
   "outputs": [
    {
     "name": "stdout",
     "output_type": "stream",
     "text": [
      "3 is a prime number\n",
      "4 equals 2 * 2\n",
      "5 is a prime number\n",
      "5 is a prime number\n",
      "5 is a prime number\n",
      "6 equals 2 * 3\n",
      "7 is a prime number\n",
      "7 is a prime number\n",
      "7 is a prime number\n",
      "7 is a prime number\n",
      "7 is a prime number\n",
      "8 equals 2 * 4\n",
      "9 is a prime number\n",
      "9 equals 3 * 3\n"
     ]
    }
   ],
   "source": [
    "for n in range(2,10):\n",
    "    for x in range(2,n):\n",
    "        if n%x==0:\n",
    "            print(n, 'equals',x,'*', n//x)\n",
    "            break\n",
    "        else:\n",
    "            print(n,'is a prime number')"
   ]
  },
  {
   "cell_type": "code",
   "execution_count": 15,
   "id": "e03c9080-cc82-4e71-808e-84f90fb86537",
   "metadata": {},
   "outputs": [],
   "source": [
    "class MyEmptyClass:\n",
    "    pass"
   ]
  },
  {
   "cell_type": "code",
   "execution_count": 16,
   "id": "e8e681e4-1eda-4fd0-94de-0de9065e983b",
   "metadata": {},
   "outputs": [],
   "source": [
    "def initlog(*args):\n",
    "    pass"
   ]
  },
  {
   "cell_type": "code",
   "execution_count": 18,
   "id": "9f14b851-4ce1-4493-b584-7a2e55c8d2b5",
   "metadata": {},
   "outputs": [],
   "source": [
    "def http_error(status):\n",
    "    match status:\n",
    "        case 400:\n",
    "            return \"Bad request\"\n",
    "        case 404:\n",
    "            return \"Not found\"\n",
    "        case 418:\n",
    "            return \"I'm a teapot\"\n",
    "        case _:\n",
    "            return \"Something's wrong with the internet\""
   ]
  },
  {
   "cell_type": "code",
   "execution_count": 21,
   "id": "8753520a-b2b9-40dc-a80c-58b0671e1cb8",
   "metadata": {},
   "outputs": [],
   "source": [
    "class Point:\n",
    "    def __init__(self, x, y):\n",
    "        self.x = x\n",
    "        self.y = y\n",
    "\n",
    "def where_is(point):\n",
    "    match point:\n",
    "        case Point(x=0, y=0):\n",
    "            print(\"origin\")\n",
    "        case Point(x=0, y=y):\n",
    "            print(f\"Y={y}\")\n",
    "        case Point(x=x, y=0):\n",
    "            print(f\"X={x}\")\n",
    "        case Point():\n",
    "            print(\"Somewhere else\")\n",
    "        case _:\n",
    "            print(\"Not a point\")"
   ]
  },
  {
   "cell_type": "code",
   "execution_count": 23,
   "id": "21e7fcf6-7ebb-46e1-8d93-092492146eb2",
   "metadata": {},
   "outputs": [
    {
     "name": "stdout",
     "output_type": "stream",
     "text": [
      "Something else\n"
     ]
    }
   ],
   "source": [
    "class Point:\n",
    "    __match_args__ = ('x', 'y')\n",
    "    def __init__(self, x, y):\n",
    "        self.x = x\n",
    "        self.y = y\n",
    "\n",
    "match Point:\n",
    "    case []:\n",
    "        print(\"No points\")\n",
    "    case [Point(0, 0)]:\n",
    "        print(\"The origin\")\n",
    "    case [Point(x, y)]:\n",
    "        print(f\"Single point {x}, {y}\")\n",
    "    case [Point(0, y1), Point(0, y2)]:\n",
    "        print(f\"Two on the Y axis at {y1}, {y2}\")\n",
    "    case _:\n",
    "        print(\"Something else\")"
   ]
  },
  {
   "cell_type": "code",
   "execution_count": 31,
   "id": "e7c8d769-9100-453f-bd5e-d57c776626b8",
   "metadata": {},
   "outputs": [
    {
     "name": "stdin",
     "output_type": "stream",
     "text": [
      "Enter your choice of 'red', 'blue' or 'green': blue\n"
     ]
    },
    {
     "name": "stdout",
     "output_type": "stream",
     "text": [
      "I'm feeling the blues:\n"
     ]
    }
   ],
   "source": [
    "from enum import Enum\n",
    "class Color(Enum):\n",
    "    RED='red'\n",
    "    GREEN='green'\n",
    "    BLUE='blue'\n",
    "color = Color(input(\"Enter your choice of 'red', 'blue' or 'green':\"))\n",
    "\n",
    "match color:\n",
    " case Color.RED:\n",
    "     print(\"I see red!\")\n",
    " case Color.GREEN:\n",
    "     print(\"Grass is green\")\n",
    " case Color.BLUE:\n",
    "     print (\"I'm feeling the blues:\")"
   ]
  },
  {
   "cell_type": "code",
   "execution_count": 35,
   "id": "05785d01-103e-4473-8549-c33bf126a422",
   "metadata": {},
   "outputs": [
    {
     "name": "stdout",
     "output_type": "stream",
     "text": [
      "0 1 1 2 3 5 8 13 21 34 55 89 144 233 377 610 987 1597 \n"
     ]
    }
   ],
   "source": [
    "def fib(n):\n",
    "    a,b=0,1\n",
    "    while a<n:\n",
    "        print(a, end=' ')\n",
    "        a,b=b,a+b\n",
    "    print()\n",
    "fib(2000)"
   ]
  },
  {
   "cell_type": "code",
   "execution_count": 36,
   "id": "0d1666f6-9843-4d37-b896-c5612f237825",
   "metadata": {},
   "outputs": [
    {
     "data": {
      "text/plain": [
       "[0, 1, 1, 2, 3, 5, 8, 13, 21, 34, 55, 89]"
      ]
     },
     "execution_count": 36,
     "metadata": {},
     "output_type": "execute_result"
    }
   ],
   "source": [
    "def fib2(n):\n",
    "    result=[]\n",
    "    a,b=0,1\n",
    "    while a<n:\n",
    "        result.append(a)\n",
    "        a,b=b, a+b\n",
    "    return result\n",
    "f100=fib2(100)\n",
    "f100"
   ]
  },
  {
   "cell_type": "code",
   "execution_count": 39,
   "id": "a700e14e-7100-4ee5-a5a7-ca3708dac5c6",
   "metadata": {},
   "outputs": [],
   "source": [
    "def ask_ok(prompt, retries=4, reminder='Please try again!'):\n",
    "    while True:\n",
    "        reply = input(prompt)\n",
    "        if reply in {'y', 'ye', 'yes'}:\n",
    "            return True\n",
    "        if reply in {'n', 'no', 'nop', 'nope'}:\n",
    "            return False\n",
    "        retries=retries-1\n",
    "        if retries<0:\n",
    "            raise ValueError('invalid user response')\n",
    "        print(reminder)"
   ]
  },
  {
   "cell_type": "code",
   "execution_count": 40,
   "id": "6b8f2361-97f6-4475-9e5c-f70eaaa953f2",
   "metadata": {},
   "outputs": [
    {
     "name": "stdout",
     "output_type": "stream",
     "text": [
      "[1]\n",
      "[1, 2]\n",
      "[1, 2, 3]\n"
     ]
    }
   ],
   "source": [
    "def f(a, L=[]):\n",
    "    L.append(a)\n",
    "    return L\n",
    "print(f(1))\n",
    "print(f(2))\n",
    "print(f(3))"
   ]
  },
  {
   "cell_type": "code",
   "execution_count": 41,
   "id": "32377279-c6fe-4a14-83b6-4d518f039a18",
   "metadata": {},
   "outputs": [],
   "source": [
    "def f(a, L=None):\n",
    "    if L is None:\n",
    "        L=[]\n",
    "    L.append(a)\n",
    "    return L"
   ]
  },
  {
   "cell_type": "code",
   "execution_count": 48,
   "id": "e36678fa-e5e4-4c4f-b4fc-795691a2db76",
   "metadata": {},
   "outputs": [],
   "source": [
    "def parrot(voltage, state='a stiff', action='voom', type='Norwegian Blue'):\n",
    "    print(\"-- This parrot wouln't\", action, end=' ')\n",
    "    print(\"if you put\", voltage, \"volts through it.\")\n",
    "    print(\"-- Lovely plumage, the\", type)\n",
    "    print(\"-- It's\", state, \"!\")\n",
    "    parrot(1000)\n",
    "    parrot(voltage=1000)\n",
    "    parrot(voltage=1000000, action='VOOOOOM')\n",
    "    parrot(action='VOOOOOM', voltage=1000000)\n",
    "    parrot('a million', 'bereft of life','jump')\n",
    "    parrot('a thousand', state='pushing up the daisies')"
   ]
  },
  {
   "cell_type": "code",
   "execution_count": 54,
   "id": "bcca5271-fa0f-4fe3-b896-7df5fd232e3e",
   "metadata": {},
   "outputs": [
    {
     "name": "stdout",
     "output_type": "stream",
     "text": [
      "Do nothing, but document it.\n",
      "    No, really, it doesn't do anything.\n",
      "    \n"
     ]
    }
   ],
   "source": [
    "def my_function():\n",
    "    \"\"\"Do nothing, but document it.\n",
    "    No, really, it doesn't do anything.\n",
    "    \"\"\"\n",
    "    pass\n",
    "print(my_function.__doc__)"
   ]
  },
  {
   "cell_type": "code",
   "execution_count": 57,
   "id": "609ccc71-e453-40e9-b4b8-e44771f1415c",
   "metadata": {},
   "outputs": [
    {
     "name": "stdout",
     "output_type": "stream",
     "text": [
      "Annotations: {'ham': <class 'str'>, 'eggs': <class 'str'>, 'return': <class 'str'>}\n",
      "Arguments: spam eggs\n"
     ]
    },
    {
     "data": {
      "text/plain": [
       "'spamandeggs'"
      ]
     },
     "execution_count": 57,
     "metadata": {},
     "output_type": "execute_result"
    }
   ],
   "source": [
    "def f(ham: str, eggs:str = 'eggs') -> str:\n",
    "    print(\"Annotations:\", f.__annotations__)\n",
    "    print(\"Arguments:\", ham, eggs)\n",
    "    return ham + 'and' + eggs\n",
    "f('spam')"
   ]
  },
  {
   "cell_type": "code",
   "execution_count": 62,
   "id": "bb36ada6-63c4-4018-99d1-a6a49671c1fb",
   "metadata": {},
   "outputs": [
    {
     "name": "stdout",
     "output_type": "stream",
     "text": [
      "55\n"
     ]
    }
   ],
   "source": [
    "def fibonacci(n):\n",
    "    if n == 0:\n",
    "        return 0\n",
    "    elif n == 1:\n",
    "        return 1\n",
    "    else:\n",
    "        return fibonacci(n-1) + fibonacci(n-2)\n",
    "\n",
    "print(fibonacci(10))"
   ]
  },
  {
   "cell_type": "code",
   "execution_count": null,
   "id": "3e13f175-7ba3-4c95-ba11-e2cb5dc6e13b",
   "metadata": {},
   "outputs": [],
   "source": []
  }
 ],
 "metadata": {
  "kernelspec": {
   "display_name": "Python 3 (ipykernel)",
   "language": "python",
   "name": "python3"
  },
  "language_info": {
   "codemirror_mode": {
    "name": "ipython",
    "version": 3
   },
   "file_extension": ".py",
   "mimetype": "text/x-python",
   "name": "python",
   "nbconvert_exporter": "python",
   "pygments_lexer": "ipython3",
   "version": "3.12.7"
  }
 },
 "nbformat": 4,
 "nbformat_minor": 5
}
